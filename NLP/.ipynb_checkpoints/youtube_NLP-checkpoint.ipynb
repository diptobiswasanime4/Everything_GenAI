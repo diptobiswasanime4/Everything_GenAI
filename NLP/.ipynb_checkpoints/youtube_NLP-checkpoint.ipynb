{
 "cells": [
  {
   "cell_type": "markdown",
   "id": "ba47aeea",
   "metadata": {},
   "source": [
    "# Natural Language Processing (NLP)\n",
    "## Terminologies\n",
    "\n",
    "#### Corpus\n",
    "It is an essay (body of text)\n",
    "#### Documents\n",
    "It is the list of sentences from the essay.\n",
    "#### Words\n",
    "It is the list of words from a sentence (or essay)\n",
    "#### Tokens\n",
    "It is the list of sentences or words (tokens) from the essay"
   ]
  },
  {
   "cell_type": "code",
   "execution_count": 2,
   "id": "ccef8a61",
   "metadata": {},
   "outputs": [],
   "source": [
    "import nltk\n",
    "from nltk.tokenize import sent_tokenize, word_tokenize, wordpunct_tokenize"
   ]
  },
  {
   "cell_type": "code",
   "execution_count": 3,
   "id": "e637dd73",
   "metadata": {},
   "outputs": [
    {
     "name": "stderr",
     "output_type": "stream",
     "text": [
      "[nltk_data] Downloading package punkt to\n",
      "[nltk_data]     C:\\Users\\dipto\\AppData\\Roaming\\nltk_data...\n",
      "[nltk_data]   Package punkt is already up-to-date!\n"
     ]
    },
    {
     "data": {
      "text/plain": [
       "True"
      ]
     },
     "execution_count": 3,
     "metadata": {},
     "output_type": "execute_result"
    }
   ],
   "source": [
    "nltk.download(\"punkt\")"
   ]
  },
  {
   "cell_type": "code",
   "execution_count": 4,
   "id": "920ca68d",
   "metadata": {},
   "outputs": [],
   "source": [
    "corpus = \"\"\"\n",
    "The Hero, the King, and the Cook\n",
    "\"Tal, I'm so happy to see you here. I cannot thank you enough for saving my kingdom, we're all safe because of you. You're the true Hero!\"\n",
    "\"Yeah it was a predicament for sure. Somebody had to do it. I did it. Haha\"\n",
    "\"You're as cheerful as ever. Tal, I don't think it's enough, but in your honor I have decided to throw the biggest party you've ever seen. Eat, drink and party as much as you want, don't hesitate!\"\n",
    "\"Cheers, for the kingdom, and for the king!\"\n",
    "The Hero and the King were seated side by side at the center of a giant hall, eating and drinking from a hundred dishes exhibited right in front of them in a giant table.\n",
    "A lot of very very important people (VVIPs) were surrounding them, ministers, bureaucrats, priests, scholars, merchants, all trying to get a glimpse of the Hero, possibly talk to him. Everybody was in total awe, some even offered the hand of their daughter, the Hero was cheerful but unbothered.\n",
    "Outside even the commoners were in a festive mood. They were all singing praises of the hero, and dancing. Many offered big discounts in their shops, while some hiked prices and bagged profits, all in the Hero's honor.\n",
    "\"Tal, what do you think? I bet, you've never been to a party as grand as this one before!\"\n",
    "\"You bet! The others doesn't even look like parties now.\"\n",
    "\"The biggest surprise is not yet here. Everything you see now pales in comparison.\"\n",
    "\"Oh still something bigger is left?\"\n",
    "\"Much much bigger, something you have never imagined!\"\n",
    "\"Oh what could that be? I know, I know, the hand of the princess! Oh come on, I cannot settle down right now, I love being a hero, but since you insist, I will think on…\"\n",
    "\"That's right, that's right, now is not really the time for you to settle, I have never seen a fine warrior like you before, you have plenty of time ahead, or do you want a big fat tummy like mine?\"\n",
    "\"Haha and then I have to hire another Hero to save my kingdom, I can never let that happen! At least not before I tame a Dragon from the village of Dragon Tamers.\"\n",
    "\"Maybe I can fund your adventure over there, only bring me 3 Fire Dragons for my kingdom's protection.\"\n",
    "\"Sure sure. Why not? Anyway, I'm still curious, what is the big bang thing, that's coming next?\"\n",
    "\"Here it is\", the king directed Tal.\n",
    "The Head Cook arrived, along with him came something grand. Everybody wondered, a secret dish? But it is covered. Everybody is curious. What could that be!?\n",
    "\"Tal, once again I'd like to take this opportunity to thank you, on behalf of the entire kingdom, on behalf of my entire 65 million subjects, for saving our lives from the Evil Twin-headed Dragon Dodura, that had been tormenting our kingdom for so long, even our beautiful capital city of Astral was losing her vibrance, she is now recovering. And it's all because of you.\"\n",
    "Everybody looked at Tal. He was the center of undivided attention.\n",
    "\"I know words are not enough. So I wanted to give you this. The rarest and the most delicious fruit you'll find in the entire world. Fruit that doesn't rot in 100 years, that cures incurable diseases, also is unbelievably delicious, only those who have tasted can confirm. Only a handful of them, that our former Great General Snorz laid down his life to secure from the treacherous Southern islands, and this is the last one remaining.\"\n",
    "Everybody listened to the king with awe. The king concluded, ordering the Head Cook to remove the cover.\n",
    "\"Tal, I want you to have it. Behold, the rarest of the rare, The Mystic Pomegranite!\"\n",
    "Everybody looked with complete attention as the Head Cook removed the cover. Then they were little bit startled. They were confused! Really? The king's face looked lifeless, stoic. Head Cook is silent. They were all looking at the plate. It's empty!\n",
    "People at the back started gossiping.\n",
    "\"What happened!? What happened to the fruit?\"\n",
    "\"Somebody stole the fruit! Really?\"\n",
    "\"Mystic Pomegranite? A miracle fruit!? Never heard of it.\"\n",
    "\"The General laid down his life for a stupid fruit? I thought it was…\"\n",
    "\"I'm sure it's the Head Cook. Look at his face. The fruit is so great, who wouldn't…\"\n",
    "\"Feel so bad for The Hero. The king is…\"\n",
    "The king was looking at the plate with lifeless eyes. Now he looked at the crowd. He looked angry. The crowd became silent in an instant. The king moved his face towards the Head Cook, he's standing silent with eyes closed.\n",
    "The Hero observed the whole situation. He felt awkward.\n",
    "\"Head Cook\", the king called in a low deep voice.\n",
    "\"At your service, your Highness!\"\n",
    "\"Please explain.\"\n",
    "\"Yes! Welcome Tal, my Hero, to our beautiful kingdom of Purplewoods, south of the beautiful Purplewoods Forest, ruled by his Majesty, the mighty king Thoros. In the name of his highness let me introduce you our kingdom's finest cuisine.\"\n",
    "The king observed the situation, but stayed silent.\n",
    "The Head Cook took a mug of wine. \"The Purple Wine, made from the juice of the finest quality purple grapes, that you may have already started with, all made under my direct oversight. Then comes Fire Chicken, don't confuse this with regular chickens, they're the finest breed of chickens imported from the Western kingdoms, I have made it personally with my hands. Once you eat, you'll keep coming back. Then…\"\n",
    "\"Silence\", the king shouted at the Head Cook. Everybody in the hall had their faces pale in fear. The Hero was observing the whole situation, trying to be calm, but feeling awkward.\n",
    "\"Where is the Mystic Pomegranite!?\"\n",
    "The Head Cook stayed silent.\n",
    "\"It was your responsibility to keep it safe, and bring it for Tal. Where is it?\"\n",
    "The king's eyes turned blood-red. The crowd wondered about the situation, but scared to gossip about anything.\n",
    "\"Your Highness\", the head cook said.\n",
    "The king stared at him.\n",
    "\"I'm deeply saddened to see that the Wonder Fruit has gone missing. At your direction I will quickly direct the cooks to search for it\", the head cook said in a calm and quiet tone. It was pretty apparent that he was trying to mock the king. But why!? Everybody wondered.\n",
    "\"What nonsense!? It's not only the cooks, I'll also direct the soldiers to search for it. Guards, search every nook and corner of the Castle and find the Miracle Fruit, the Mystic Pomegranite for our hero ASAP\", the king directed. His voice echoed in the walls of the giant hall. The cooks and the guards immediately started moving around in search of the fruit. They were searching everywhere possible, in the kitchen, armory, bathhouse, below mats, behind furnitures and other decorations, some were also asking and searching people in the Castle. On the other hand the people who came to the Castle were all in a state of shock and panic. Everybody started talking, nobody's sure what's going on.\n",
    "\"Better I should also assist the young cooks in the Great Search\", the head cook said as he wanted to go and search.\n",
    "\"Shut Up Head Cook! You're not going anywhere, unless I wish so\", the king noticed the Head Cook's intent and stopped him immediately.\n",
    "\"At your service your Highness\", the Cook said. He was surprisingly calm in such a tense situation.\n",
    "\"\"\""
   ]
  },
  {
   "cell_type": "code",
   "execution_count": 6,
   "id": "e0c2e605",
   "metadata": {},
   "outputs": [],
   "source": [
    "senteces = sent_tokenize(corpus)"
   ]
  },
  {
   "cell_type": "code",
   "execution_count": null,
   "id": "28b32d7b",
   "metadata": {},
   "outputs": [],
   "source": []
  },
  {
   "cell_type": "code",
   "execution_count": null,
   "id": "9ccd7b1b",
   "metadata": {},
   "outputs": [],
   "source": []
  },
  {
   "cell_type": "code",
   "execution_count": null,
   "id": "41e6e2d8",
   "metadata": {},
   "outputs": [],
   "source": []
  },
  {
   "cell_type": "code",
   "execution_count": null,
   "id": "46a5137e",
   "metadata": {},
   "outputs": [],
   "source": []
  },
  {
   "cell_type": "code",
   "execution_count": null,
   "id": "d3f3b809",
   "metadata": {},
   "outputs": [],
   "source": []
  }
 ],
 "metadata": {
  "kernelspec": {
   "display_name": "Python 3 (ipykernel)",
   "language": "python",
   "name": "python3"
  },
  "language_info": {
   "codemirror_mode": {
    "name": "ipython",
    "version": 3
   },
   "file_extension": ".py",
   "mimetype": "text/x-python",
   "name": "python",
   "nbconvert_exporter": "python",
   "pygments_lexer": "ipython3",
   "version": "3.11.5"
  }
 },
 "nbformat": 4,
 "nbformat_minor": 5
}
